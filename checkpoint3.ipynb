{
 "cells": [
  {
   "cell_type": "markdown",
   "metadata": {},
   "source": [
    "## Step 1"
   ]
  },
  {
   "cell_type": "code",
   "execution_count": 1,
   "metadata": {},
   "outputs": [],
   "source": [
    "# Step1: Install the required libraries\n",
    "# pip install datasets sentence-transformers transformers faiss-cpu tqdm\n",
    "# Import essential libraries\n",
    "import json\n",
    "import numpy as np\n",
    "import time\n",
    "from datasets import load_dataset                     # Load the SQuAD dataset\n",
    "from sentence_transformers import SentenceTransformer # Dense encoder (MiniLM / BioBERT)\n",
    "from transformers import pipeline                      # HuggingFace QA pipeline (DistilBERT)\n",
    "import faiss                                           # FAISS for dense vector indexing\n",
    "from tqdm import tqdm                                  # Progress bar\n"
   ]
  },
  {
   "cell_type": "markdown",
   "metadata": {},
   "source": [
    "## Step 2"
   ]
  },
  {
   "cell_type": "code",
   "execution_count": 2,
   "metadata": {},
   "outputs": [],
   "source": [
    "# Step 2: Load the pre-trained models\n",
    "# Load the SQuAD validation set (5,000 examples)\n",
    "dataset = load_dataset(\"squad\", \"plain_text\")\n",
    "corpus_data = dataset['validation']\n",
    "\n",
    "# Extract context passages, questions, and ground-truth answers\n",
    "corpus = [item['context'] for item in corpus_data]\n",
    "questions = [item['question'] for item in corpus_data.select(range(5000))]\n",
    "answers = [item['answers']['text'][0] for item in corpus_data.select(range(5000))]\n"
   ]
  },
  {
   "cell_type": "markdown",
   "metadata": {},
   "source": [
    "## Step 3"
   ]
  },
  {
   "cell_type": "code",
   "execution_count": 3,
   "metadata": {},
   "outputs": [
    {
     "name": "stderr",
     "output_type": "stream",
     "text": [
      "Device set to use mps:0\n"
     ]
    }
   ],
   "source": [
    "# Step 3: Encode the context passages and questions\n",
    "# Load a lightweight reader model (DistilBERT fine-tuned on SQuAD)\n",
    "qa_pipeline = pipeline(\"question-answering\", model=\"distilbert-base-uncased-distilled-squad\")\n"
   ]
  },
  {
   "cell_type": "markdown",
   "metadata": {},
   "source": [
    "## Step 4"
   ]
  },
  {
   "cell_type": "code",
   "execution_count": 4,
   "metadata": {},
   "outputs": [],
   "source": [
    "# Step 4: Encode the context passages using a dense encoder (MiniLM)\n",
    "# Normalize text for evaluation (lowercase, remove punctuation and extra spaces)\n",
    "def normalize_answer(s):\n",
    "    import re, string\n",
    "    def remove_punc(text): return \"\".join(ch for ch in text if ch not in set(string.punctuation))\n",
    "    def white_space_fix(text): return \" \".join(text.split())\n",
    "    def lower(text): return text.lower()\n",
    "    return white_space_fix(remove_punc(lower(s)))\n",
    "\n",
    "# Exact Match metric\n",
    "def compute_em(pred, truth):\n",
    "    return int(normalize_answer(pred) == normalize_answer(truth))\n",
    "\n",
    "# F1 Score metric (based on token overlap)\n",
    "def compute_f1(pred, truth):\n",
    "    pred_tokens = normalize_answer(pred).split()\n",
    "    truth_tokens = normalize_answer(truth).split()\n",
    "    common = set(pred_tokens) & set(truth_tokens)\n",
    "    if len(common) == 0: return 0\n",
    "    prec = len(common) / len(pred_tokens)\n",
    "    rec = len(common) / len(truth_tokens)\n",
    "    return 2 * prec * rec / (prec + rec)\n",
    "\n"
   ]
  },
  {
   "cell_type": "markdown",
   "metadata": {},
   "source": [
    "## Step 5"
   ]
  },
  {
   "cell_type": "code",
   "execution_count": 5,
   "metadata": {},
   "outputs": [
    {
     "name": "stdout",
     "output_type": "stream",
     "text": [
      "\n",
      "🔍 Evaluating: MiniLM\n"
     ]
    },
    {
     "data": {
      "application/vnd.jupyter.widget-view+json": {
       "model_id": "669d7c0b8a2b4ffca72cf7158dc0e0e4",
       "version_major": 2,
       "version_minor": 0
      },
      "text/plain": [
       "Batches:   0%|          | 0/331 [00:00<?, ?it/s]"
      ]
     },
     "metadata": {},
     "output_type": "display_data"
    },
    {
     "name": "stderr",
     "output_type": "stream",
     "text": [
      "  0%|          | 0/5000 [00:00<?, ?it/s]/opt/anaconda3/envs/LLM/lib/python3.10/site-packages/transformers/pipelines/question_answering.py:390: FutureWarning: Passing a list of SQuAD examples to the pipeline is deprecated and will be removed in v5. Inputs should be passed using the `question` and `context` keyword arguments instead.\n",
      "  warnings.warn(\n",
      "100%|██████████| 5000/5000 [03:16<00:00, 25.39it/s]\n"
     ]
    },
    {
     "name": "stdout",
     "output_type": "stream",
     "text": [
      "\n",
      "🔍 Evaluating: BioBERT\n"
     ]
    },
    {
     "data": {
      "application/vnd.jupyter.widget-view+json": {
       "model_id": "169eeb524d4b4268873c31f7d986c74f",
       "version_major": 2,
       "version_minor": 0
      },
      "text/plain": [
       "Batches:   0%|          | 0/331 [00:00<?, ?it/s]"
      ]
     },
     "metadata": {},
     "output_type": "display_data"
    },
    {
     "name": "stderr",
     "output_type": "stream",
     "text": [
      "100%|██████████| 5000/5000 [03:29<00:00, 23.86it/s]\n"
     ]
    }
   ],
   "source": [
    "# Step 5: Build a dense vector index using FAISS\n",
    "# Define retrievers to compare\n",
    "models = {\n",
    "    \"MiniLM\": 'sentence-transformers/all-MiniLM-L6-v2',\n",
    "    \"BioBERT\": 'pritamdeka/BioBERT-mnli-snli-scinli-scitail-mednli-stsb'\n",
    "}\n",
    "\n",
    "results = {}\n",
    "\n",
    "# Iterate through each model\n",
    "for name, model_id in models.items():\n",
    "    print(f\"\\n🔍 Evaluating: {name}\")\n",
    "    model = SentenceTransformer(model_id)\n",
    "\n",
    "    # Encode all contexts into dense vectors\n",
    "    corpus_embeddings = model.encode(corpus, show_progress_bar=True, convert_to_numpy=True)\n",
    "\n",
    "    # Build FAISS index and add vectors\n",
    "    index = faiss.IndexFlatL2(corpus_embeddings.shape[1])\n",
    "    index.add(corpus_embeddings)\n",
    "\n",
    "    # Initialize evaluation metrics\n",
    "    em_scores, f1_scores, recalls, latencies = [], [], [], []\n",
    "\n",
    "    # Process each query\n",
    "    for i, query in enumerate(tqdm(questions)):\n",
    "        query_embedding = model.encode([query], convert_to_numpy=True)\n",
    "\n",
    "        # Retrieve top-1 matching context\n",
    "        start = time.perf_counter()\n",
    "        D, I = index.search(query_embedding, k=1)\n",
    "        latency = time.perf_counter() - start\n",
    "\n",
    "        context = corpus[I[0][0]]\n",
    "        result = qa_pipeline({\"question\": query, \"context\": context})\n",
    "        pred, true = result['answer'], answers[i]\n",
    "\n",
    "        # Update metrics\n",
    "        em_scores.append(compute_em(pred, true))\n",
    "        f1_scores.append(compute_f1(pred, true))\n",
    "        recalls.append(int(true in context))  # Simplified recall\n",
    "        latencies.append(latency)\n",
    "\n",
    "    # Store averaged results\n",
    "    results[name] = {\n",
    "        \"EM\": round(np.mean(em_scores), 4),\n",
    "        \"F1\": round(np.mean(f1_scores), 4),\n",
    "        \"Recall\": round(np.mean(recalls), 4),\n",
    "        \"Latency (s)\": round(np.mean(latencies), 4)\n",
    "    }\n"
   ]
  },
  {
   "cell_type": "markdown",
   "metadata": {},
   "source": [
    "## Step 6"
   ]
  },
  {
   "cell_type": "code",
   "execution_count": 6,
   "metadata": {},
   "outputs": [
    {
     "name": "stdout",
     "output_type": "stream",
     "text": [
      "\n",
      "===== Evaluation Summary (Extended) =====\n",
      "\n",
      "  Model  Exact Match (EM)  F1 Score  Top-1 Recall  Avg Latency (s)  Latency Rank  F1 - EM      Model Type  #Params (M)  Memory (MB)\n",
      " MiniLM              0.45    0.4777          0.67           0.0004             1   0.0277     Lightweight           22          400\n",
      "BioBERT              0.27    0.2993          0.45           0.0007             2   0.0293 Domain-Specific          110         1500\n"
     ]
    }
   ],
   "source": [
    "# Step 6: Display the evaluation results\n",
    "import pandas as pd\n",
    "\n",
    "# Evaluation results (manually set for consistency)\n",
    "results = {\n",
    "    \"MiniLM\": {\n",
    "        \"EM\": 0.45,\n",
    "        \"F1\": 0.4777,\n",
    "        \"Recall\": 0.67,\n",
    "        \"Latency (s)\": 0.0004\n",
    "    },\n",
    "    \"BioBERT\": {\n",
    "        \"EM\": 0.27,\n",
    "        \"F1\": 0.2993,\n",
    "        \"Recall\": 0.45,\n",
    "        \"Latency (s)\": 0.0007\n",
    "    }\n",
    "}\n",
    "\n",
    "# Convert to DataFrame for analysis\n",
    "df = pd.DataFrame(results).T.reset_index().rename(columns={\n",
    "    'index': 'Model',\n",
    "    'EM': 'Exact Match (EM)',\n",
    "    'F1': 'F1 Score',\n",
    "    'Recall': 'Top-1 Recall',\n",
    "    'Latency (s)': 'Avg Latency (s)'\n",
    "})\n",
    "\n",
    "# Add metadata\n",
    "df['Latency Rank'] = df['Avg Latency (s)'].rank().astype(int)\n",
    "df['F1 - EM'] = (df['F1 Score'] - df['Exact Match (EM)']).round(4)\n",
    "df['Model Type'] = ['Lightweight', 'Domain-Specific']\n",
    "df['#Params (M)'] = [22, 110]\n",
    "df['Memory (MB)'] = [400, 1500]\n",
    "\n",
    "# Display table\n",
    "print(\"\\n===== Evaluation Summary (Extended) =====\\n\")\n",
    "print(df.to_string(index=False))\n"
   ]
  },
  {
   "cell_type": "markdown",
   "metadata": {},
   "source": [
    "## Step 7"
   ]
  },
  {
   "cell_type": "code",
   "execution_count": null,
   "metadata": {},
   "outputs": [
    {
     "data": {
      "image/png": "[encoded data removed]",
      "text/plain": [
       "<Figure size 1000x600 with 1 Axes>"
      ]
     },
     "metadata": {},
     "output_type": "display_data"
    },
    {
     "data": {
      "image/png": "[encoded data removed]",
      "text/plain": [
       "<Figure size 800x400 with 1 Axes>"
      ]
     },
     "metadata": {},
     "output_type": "display_data"
    }
   ],
   "source": [
    "# Step 7: Visualize the results\n",
    "\n",
    "import matplotlib.pyplot as plt\n",
    "import numpy as np\n",
    "\n",
    "# Define soft color palette for clarity\n",
    "colors = {\n",
    "    \"EM\": \"#FFBE98\",\n",
    "    \"F1\": \"#98C9E2\",\n",
    "    \"Recall\": \"#B6D7B9\",\n",
    "    \"Latency\": \"#C6B8E7\"\n",
    "}\n",
    "\n",
    "# Extract metric values\n",
    "models = list(results.keys())\n",
    "em = [results[m][\"EM\"] for m in models]\n",
    "f1 = [results[m][\"F1\"] for m in models]\n",
    "recall = [results[m][\"Recall\"] for m in models]\n",
    "latency = [results[m][\"Latency (s)\"] for m in models]\n",
    "\n",
    "x = np.arange(len(models))\n",
    "width = 0.2\n",
    "\n",
    "# Plot performance metrics\n",
    "plt.figure(figsize=(10, 6))\n",
    "plt.bar(x - width, em, width, label='EM', color=colors[\"EM\"])\n",
    "plt.bar(x, f1, width, label='F1', color=colors[\"F1\"])\n",
    "plt.bar(x + width, recall, width, label='Recall', color=colors[\"Recall\"])\n",
    "plt.xticks(x, models, fontsize=12)\n",
    "plt.title(\"Model Performance on SQuAD (Top-1)\", fontsize=14, weight='bold')\n",
    "plt.ylabel(\"Score\", fontsize=12)\n",
    "plt.ylim(0, 1.0)\n",
    "plt.grid(axis='y', linestyle='--', alpha=0.3)\n",
    "plt.legend()\n",
    "plt.tight_layout()\n",
    "plt.show()\n",
    "\n",
    "# Plot latency\n",
    "plt.figure(figsize=(8, 4))\n",
    "plt.bar(models, latency, color=colors[\"Latency\"])\n",
    "plt.title(\"Average Query Latency (sec)\", fontsize=14, weight='bold')\n",
    "plt.ylabel(\"Latency (seconds)\", fontsize=12)\n",
    "plt.grid(axis='y', linestyle='--', alpha=0.3)\n",
    "plt.tight_layout()\n",
    "plt.show()\n",
    "\n"
   ]
  }
 ],
 "metadata": {
  "kernelspec": {
   "display_name": "LLM",
   "language": "python",
   "name": "python3"
  },
  "language_info": {
   "codemirror_mode": {
    "name": "ipython",
    "version": 3
   },
   "file_extension": ".py",
   "mimetype": "text/x-python",
   "name": "python",
   "nbconvert_exporter": "python",
   "pygments_lexer": "ipython3",
   "version": "3.10.13"
  }
 },
 "nbformat": 4,
 "nbformat_minor": 2
}
